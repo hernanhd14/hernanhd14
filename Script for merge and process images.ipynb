{
 "cells": [
  {
   "cell_type": "markdown",
   "metadata": {},
   "source": [
    "# MERGE PAIR OF IMAGES"
   ]
  },
  {
   "cell_type": "code",
   "execution_count": 7,
   "metadata": {},
   "outputs": [],
   "source": [
    "from PIL import Image, ImageOps, ImageEnhance, ImageFilter\n",
    "import numpy as np\n",
    "import matplotlib.pyplot as plt\n",
    "import cv2"
   ]
  },
  {
   "cell_type": "code",
   "execution_count": 8,
   "metadata": {},
   "outputs": [],
   "source": [
    "#Open and read images\n",
    "def ProcessImages(path, spath, numphotos, contrast, bright, color, sharp):\n",
    "    if numphotos == 1:\n",
    "        Path = path\n",
    "        image = Image.open(Path)\n",
    "        if image.mode not in 'RGB':\n",
    "            image = image.convert('RGB')\n",
    "        image = ImageEnhance.Contrast(image).enhance(contrast)\n",
    "        image = ImageEnhance.Brightness(image).enhance(bright)\n",
    "        image = ImageEnhance.Color(image).enhance(color)\n",
    "        image = ImageEnhance.Sharpness(image).enhance(sharp)\n",
    "        \n",
    "        image.save(spath.format(n+1))\n",
    "        return print('Done!')\n",
    "    \n",
    "    if numphotos > 1:    \n",
    "        for n in range(numphotos):\n",
    "            Path = path.format(n+1)\n",
    "            image = Image.open(Path)\n",
    "            if image.mode not in 'RGB':\n",
    "                image = image.convert('RGB')\n",
    "            image = ImageEnhance.Contrast(image).enhance(contrast)\n",
    "            image = ImageEnhance.Brightness(image).enhance(bright)\n",
    "            image = ImageEnhance.Color(image).enhance(color)\n",
    "            image = ImageEnhance.Sharpness(image).enhance(sharp)\n",
    "        \n",
    "            image.save(spath.format(n+1))\n",
    "        return print('Done!')\n",
    "        \n",
    "def MergedImages(Fpath, Spath, numphotos, savepath, a, b):\n",
    "    lst_of_images1 = []\n",
    "    lst_of_images2 = []\n",
    "    for n in range(numphotos):\n",
    "        n = n + 1\n",
    "        path1 = Fpath.format(n)\n",
    "        image1 = cv2.imread(path1)\n",
    "        imageRGB1 = cv2.cvtColor(image1, cv2.COLOR_BGR2RGB)\n",
    "        lst_of_images1.append(imageRGB1)\n",
    "\n",
    "        path2 = Spath.format(n)  \n",
    "        image2 = cv2.imread(path2)\n",
    "        imageRGB2 = cv2.cvtColor(image2, cv2.COLOR_BGR2RGB)\n",
    "        lst_of_images2.append(imageRGB2)\n",
    "\n",
    "    lst_of_merge = []\n",
    "    for n in range(numphotos):    \n",
    "        merge = cv2.addWeighted(src1 = lst_of_images1[n], alpha = a, src2 = lst_of_images2[n], beta = b, gamma = 0)\n",
    "        savpath = savepath.format(n+1)\n",
    "        immerge = Image.fromarray(merge)\n",
    "        immerge.save(savpath)\n",
    "        lst_of_merge.append(merge)\n",
    "    \n",
    "    print('Done!')\n",
    "    return lst_of_images1, lst_of_images2, lst_of_merge\n"
   ]
  },
  {
   "cell_type": "markdown",
   "metadata": {},
   "source": [
    "# Working space"
   ]
  },
  {
   "cell_type": "code",
   "execution_count": 9,
   "metadata": {},
   "outputs": [
    {
     "name": "stdout",
     "output_type": "stream",
     "text": [
      "Done!\n"
     ]
    }
   ],
   "source": [
    "#Microglia\n",
    "\n",
    "#Number of photos\n",
    "num = 49\n",
    "\n",
    "#Microglia\n",
    "path1n = \"D:\\\\Users\\\\Usuario\\\\Desktop\\\\Hernán\\\\Resultados\\\\Resultados y experimentos\\\\Experimentos\\\\Confocal\\\\Microglia salva\\\\control\\\\{}.tif\"\n",
    "spath1n = \"D:\\\\Users\\\\Usuario\\\\Desktop\\\\Hernán\\\\Resultados\\\\Resultados y experimentos\\\\Experimentos\\\\Confocal\\\\Microglia salva\\\\control modificado\\\\{}.tif\"\n",
    "\n",
    "#Preprocessing\n",
    "ProcessImages(path1n,spath1n, num,2.0,2.0,1,1)\n"
   ]
  }
 ],
 "metadata": {
  "kernelspec": {
   "display_name": "Python 3 (ipykernel)",
   "language": "python",
   "name": "python3"
  },
  "language_info": {
   "codemirror_mode": {
    "name": "ipython",
    "version": 3
   },
   "file_extension": ".py",
   "mimetype": "text/x-python",
   "name": "python",
   "nbconvert_exporter": "python",
   "pygments_lexer": "ipython3",
   "version": "3.9.12"
  }
 },
 "nbformat": 4,
 "nbformat_minor": 4
}
